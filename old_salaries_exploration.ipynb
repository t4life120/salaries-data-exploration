{
 "cells": [
  {
   "cell_type": "code",
   "execution_count": null,
   "id": "d2b4d525",
   "metadata": {},
   "outputs": [],
   "source": [
    "# shows every output, not only the last one\n",
    "from IPython.core.interactiveshell import InteractiveShell\n",
    "InteractiveShell.ast_node_interactivity = \"all\""
   ]
  },
  {
   "cell_type": "code",
   "execution_count": null,
   "id": "7722edc4",
   "metadata": {},
   "outputs": [],
   "source": [
    "import pandas as pd"
   ]
  },
  {
   "cell_type": "code",
   "execution_count": null,
   "id": "5890ecf0",
   "metadata": {},
   "outputs": [],
   "source": [
    "# read csv file to input the data\n",
    "df = pd.read_csv('old_salaries_by_college_major.csv')"
   ]
  },
  {
   "cell_type": "code",
   "execution_count": null,
   "id": "9ea261a0",
   "metadata": {},
   "outputs": [],
   "source": [
    "# first five rows of the DataFrame\n",
    "df.head()"
   ]
  },
  {
   "cell_type": "code",
   "execution_count": null,
   "id": "e129149f",
   "metadata": {},
   "outputs": [],
   "source": [
    "# rows x columns\n",
    "df.shape"
   ]
  },
  {
   "cell_type": "code",
   "execution_count": null,
   "id": "96814885",
   "metadata": {},
   "outputs": [],
   "source": [
    "df.columns"
   ]
  },
  {
   "cell_type": "code",
   "execution_count": null,
   "id": "d7c6f31c",
   "metadata": {},
   "outputs": [],
   "source": [
    "df.isna()"
   ]
  },
  {
   "cell_type": "code",
   "execution_count": null,
   "id": "e7e3cec7",
   "metadata": {},
   "outputs": [],
   "source": [
    "df.tail()"
   ]
  },
  {
   "cell_type": "code",
   "execution_count": null,
   "id": "41856a42",
   "metadata": {},
   "outputs": [],
   "source": [
    "# drop rows that have empty cells\n",
    "df.dropna()"
   ]
  },
  {
   "cell_type": "code",
   "execution_count": null,
   "id": "94b01d7f",
   "metadata": {},
   "outputs": [],
   "source": [
    "clean_df = df.dropna()\n",
    "clean_df.tail()"
   ]
  },
  {
   "cell_type": "code",
   "execution_count": null,
   "id": "36037b06",
   "metadata": {},
   "outputs": [],
   "source": [
    "clean_df['Starting Median Salary']"
   ]
  },
  {
   "cell_type": "code",
   "execution_count": null,
   "id": "95297bc8",
   "metadata": {},
   "outputs": [],
   "source": [
    "clean_df['Starting Median Salary'].max()"
   ]
  },
  {
   "cell_type": "code",
   "execution_count": null,
   "id": "e96b5fee",
   "metadata": {},
   "outputs": [],
   "source": [
    "index = clean_df['Starting Median Salary'].idxmax()"
   ]
  },
  {
   "cell_type": "code",
   "execution_count": null,
   "id": "4fca6fb1",
   "metadata": {},
   "outputs": [],
   "source": [
    "clean_df['Undergraduate Major'].loc[index]\n",
    "clean_df['Undergraduate Major'][index]\n",
    "# does the same thing"
   ]
  },
  {
   "cell_type": "code",
   "execution_count": null,
   "id": "76f5ee1b",
   "metadata": {},
   "outputs": [],
   "source": [
    "clean_df.loc[index]"
   ]
  },
  {
   "cell_type": "code",
   "execution_count": null,
   "id": "025ebcf2",
   "metadata": {},
   "outputs": [],
   "source": [
    "# What college major has the highest mid-career salary?\n",
    "max_index = clean_df['Mid-Career Median Salary'].idxmax()\n",
    "clean_df['Mid-Career Median Salary'].max()\n",
    "clean_df['Undergraduate Major'][max_index]"
   ]
  },
  {
   "cell_type": "code",
   "execution_count": null,
   "id": "41d22049",
   "metadata": {},
   "outputs": [],
   "source": [
    "# Which college major has the lowest starting salary?\n",
    "min_index = clean_df['Starting Median Salary'].idxmin()\n",
    "print(f\"College major: {clean_df['Undergraduate Major'][min_index]}\")\n",
    "print(f\"Starting salary: {clean_df['Starting Median Salary'].min()}\")\n",
    "\n",
    "# Complete row\n",
    "clean_df.loc[min_index]"
   ]
  },
  {
   "cell_type": "code",
   "execution_count": null,
   "id": "ddfb1188",
   "metadata": {},
   "outputs": [],
   "source": [
    "# Which college major has the lowest mid-career salary?\n",
    "min_index = clean_df['Mid-Career Median Salary'].idxmin()\n",
    "clean_df.loc[min_index]"
   ]
  },
  {
   "cell_type": "code",
   "execution_count": null,
   "id": "27160d8a",
   "metadata": {},
   "outputs": [],
   "source": [
    "# Mid Career Spread (new column)\n",
    "spread_col = clean_df['Mid-Career 90th Percentile Salary'] - clean_df['Mid-Career 10th Percentile Salary']\n",
    "spread_col = clean_df['Mid-Career 90th Percentile Salary'].subtract(clean_df['Mid-Career 10th Percentile Salary'])\n",
    "\n",
    "clean_df.insert(5, 'Mid-Career Salary Spread', spread_col)\n",
    "clean_df.head()"
   ]
  },
  {
   "cell_type": "code",
   "execution_count": null,
   "id": "7e0423bd",
   "metadata": {},
   "outputs": [],
   "source": [
    "# Sorting by the Lowest Spread\n",
    "low_risk = clean_df.sort_values('Mid-Career Salary Spread')\n",
    "low_risk[['Undergraduate Major', 'Mid-Career Salary Spread']].head()"
   ]
  },
  {
   "cell_type": "code",
   "execution_count": null,
   "id": "b67d023d",
   "metadata": {},
   "outputs": [],
   "source": [
    "# Degrees with the highest potential\n",
    "highest_potential = clean_df.sort_values('Mid-Career 90th Percentile Salary', ascending=False)\n",
    "highest_potential[['Undergraduate Major', 'Mid-Career 90th Percentile Salary']].head()"
   ]
  },
  {
   "cell_type": "code",
   "execution_count": null,
   "id": "6874f58e",
   "metadata": {},
   "outputs": [],
   "source": [
    "# Degrees with the greatest spread in salaries\n",
    "highest_diff = clean_df.sort_values('Mid-Career Salary Spread', ascending=False)\n",
    "highest_diff[['Undergraduate Major', 'Mid-Career Salary Spread']].head()"
   ]
  },
  {
   "cell_type": "code",
   "execution_count": null,
   "id": "1866b7a2",
   "metadata": {},
   "outputs": [],
   "source": [
    "# Highest median salaries\n",
    "highest_med = clean_df.sort_values('Mid-Career Median Salary', ascending=False)\n",
    "highest_med[['Undergraduate Major', 'Mid-Career Median Salary']].head()"
   ]
  },
  {
   "cell_type": "code",
   "execution_count": null,
   "id": "0784213c",
   "metadata": {},
   "outputs": [],
   "source": [
    "# Group by\n",
    "clean_df.groupby('Group').count()"
   ]
  },
  {
   "cell_type": "code",
   "execution_count": null,
   "id": "c3a9f293",
   "metadata": {},
   "outputs": [],
   "source": [
    "# Mean\n",
    "clean_df.groupby('Group').mean()"
   ]
  },
  {
   "cell_type": "code",
   "execution_count": null,
   "id": "f1a1523c",
   "metadata": {},
   "outputs": [],
   "source": [
    "# Format Output\n",
    "pd.options.display.float_format = '{:,.2f}'.format\n",
    "clean_df.groupby('Group').mean()"
   ]
  }
 ],
 "metadata": {
  "kernelspec": {
   "display_name": "Python 3 (ipykernel)",
   "language": "python",
   "name": "python3"
  },
  "language_info": {
   "codemirror_mode": {
    "name": "ipython",
    "version": 3
   },
   "file_extension": ".py",
   "mimetype": "text/x-python",
   "name": "python",
   "nbconvert_exporter": "python",
   "pygments_lexer": "ipython3",
   "version": "3.10.9"
  }
 },
 "nbformat": 4,
 "nbformat_minor": 5
}
